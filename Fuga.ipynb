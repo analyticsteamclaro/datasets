{
  "nbformat": 4,
  "nbformat_minor": 0,
  "metadata": {
    "colab": {
      "name": "Untitled5.ipynb",
      "provenance": [],
      "authorship_tag": "ABX9TyM+InKxQRiyvkM47+42X5nO",
      "include_colab_link": true
    },
    "kernelspec": {
      "name": "python3",
      "display_name": "Python 3"
    },
    "language_info": {
      "name": "python"
    }
  },
  "cells": [
    {
      "cell_type": "markdown",
      "metadata": {
        "id": "view-in-github",
        "colab_type": "text"
      },
      "source": [
        "<a href=\"https://colab.research.google.com/github/analyticsteamclaro/datasets/blob/main/Fuga.ipynb\" target=\"_parent\"><img src=\"https://colab.research.google.com/assets/colab-badge.svg\" alt=\"Open In Colab\"/></a>"
      ]
    },
    {
      "cell_type": "markdown",
      "metadata": {
        "id": "x7rMqiXypkF8"
      },
      "source": [
        "## Caso de Uso: Retención de Clientes en una Compañía de Telecomunicaciones\n",
        "\n",
        "**Antecedentes**\n",
        "\n",
        "Usted ha sido contratado por una compañía de telecomunicaciones para definir una propuesta de retención a su base de clientes. Para esto debe desarrollar un proyecto de analítica avanzada donde pueda encontrar insights y hacer predicciones sobre la fuga (churn) de clientes en base a información histórica. Finalmente, a partir de este análisis debe proponer las acciones comerciales de retención que sean más efectivas. \n",
        "\n",
        "---\n",
        "\n",
        "**Información**\n",
        "\n",
        "Usted trabajará con un dataset de 5.000 registros en formato excel que se encuentra en el siguiente repositorio:\n",
        "\n",
        "https://github.com/analyticsteamclaro/datasets/blob/main/dataset_churn.xls\n",
        "\n",
        "---\n",
        "\n",
        "**Desarrollo**\n",
        "\n",
        "El proyecto debe incluir las siguientes tareas:\n",
        "\n",
        "1)\tAnálisis Exploratorio y preparación de la data: se espera que se ejecute un análisis de las variables, identificación de anomalías, limpieza, reducción de dimensionalidad, normalización y/o transformación de variables.\n",
        "\n",
        "2)\tDesarrollo de un modelo predictivo de fuga de clientes: se espera que se ejecuten varios tipos de modelos de Machine Learning (al menos 3) y que se elija el mejor de acuerdo con los indicadores que estime apropiados. Las proporciones de datos de entrenamiento y validación así como el balance de las clases son parte de las decisiones que usted debe tomar para lograr una mejor predicción.\n",
        "\n",
        "3)\tDesarrollo de una segmentación / clustering de los clientes fugados: se espera se utilicen modelos de clasificación no supervisada (al menos 2) que entreguen una clara segmentación de los tipos de clientes que se fugan.\n",
        "\n",
        "4)\tEn base a todas las tareas anteriores: se pide proponer al menos 3 estrategias comerciales de retención de clientes con mayor probabilidad de fuga.\n",
        "\n",
        "Si en cualquier tarea del proyecto tiene dudas, favor defina las hipótesis que estime conveniente, dejándolas claramente explicadas en su proyecto.\n",
        "\n",
        "El proyecto debe ser entregado como un informe en word, powerpoint u otro procesador gráfico/texto. Como Anexo se debe incluir algún notebook, tipo Github o Colab, donde se incluyan los códigos de su trabajo en el lenguaje de programación que prefiera: SQL, R, Pyhton etc.\n",
        "\n",
        "---\n",
        "\n",
        "**Dataset**\n",
        "\n",
        "Las variables del dataset y su significado son:\n",
        "\n",
        "1.\tIdCliente: Identificador único de cada cliente. \n",
        "2.\tPlan Internacional Preferente: Variable binaria que indica si el cliente cuenta con tarifa preferente para llamadas internacionales. \n",
        "3.\tPlan Internet Ilimitado: Variable binaria que indica si el cliente cuenta con un plan de navegación de internet ilimitado. \n",
        "4.\tMB navegados: Variable que indica el número de MB navegados por el cliente. \n",
        "5.\tTotal, minutos horario normal \n",
        "6.\tTotal, llamadas horario normal \n",
        "7.\tCobro llamadas horario normal: Cobro en pesos chilenos realizado al cliente por las llamadas realizadas en horario normal. \n",
        "8.\tTotal minutos horario reducido \n",
        "9.\tTotal llamadas horario reducido \n",
        "10.\tCobro llamadas horario reducido: Cobro en pesos chilenos realizado al cliente por las llamadas realizadas en horario reducido. \n",
        "11.\tTotal minutos horario nocturno \n",
        "12.\tTotal llamadas horario nocturno \n",
        "13.\tCobro llamadas horario nocturno: Cobro en pesos chilenos realizado al cliente por las llamadas realizadas en horario nocturno. \n",
        "14.\tTotal minutos llamadas internacionales \n",
        "15.\tTotal llamadas internacionales \n",
        "16.\tCobro llamadas internacionales: Cobro en pesos chilenos realizado al cliente por concepto de llamadas internacionales. \n",
        "17.\tLlamadas a servicio de atención al cliente: Llamadas realizadas por el cliente al número de atención a clientes. \n",
        "18.\tFuga: Variable dependiente, indica si el cliente se mantuvo vigente o fugó\n",
        "\n",
        "\n",
        "---\n",
        "\n",
        "**Horarios de Telefonía Móvil**\n",
        "\n",
        "Normal: Desde las 09:00:00 hasta las 23:59:59 horas en días hábiles.\n",
        "\n",
        "Reducido: \tDesde las 09:00:00 hasta las 23:59:59 horas en días sábado, domingo y festivos.\n",
        "\n",
        "Nocturno: \tDesde las 00:00:00 hasta las 08:59:59 horas en días hábiles, sábado, domingo y festivos.\n"
      ]
    }
  ]
}